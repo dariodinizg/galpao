{
 "cells": [
  {
   "cell_type": "code",
   "execution_count": 1,
   "metadata": {},
   "outputs": [],
   "source": [
    "import pandas as pd\n",
    "import matplotlib.pyplot as plt\n",
    "import seaborn as sns\n",
    "import json\n",
    "import numpy as np\n",
    "%matplotlib inline"
   ]
  },
  {
   "cell_type": "code",
   "execution_count": 2,
   "metadata": {},
   "outputs": [],
   "source": [
    "df = pd.read_excel('/home/dariodg/Desktop/free/Galpao/ComissionApp/docs/comissabril2019.XLS')"
   ]
  },
  {
   "cell_type": "code",
   "execution_count": 3,
   "metadata": {},
   "outputs": [
    {
     "data": {
      "text/plain": [
       "Index(['turma', 'titulo', 'vencimento', 'sacado', 'recebido', 'credito',\n",
       "       'descritivo'],\n",
       "      dtype='object')"
      ]
     },
     "execution_count": 3,
     "metadata": {},
     "output_type": "execute_result"
    }
   ],
   "source": [
    "df.columns"
   ]
  },
  {
   "cell_type": "markdown",
   "metadata": {},
   "source": [
    "## Turmas - Adicionando \"sem turma\" aos valores vazios"
   ]
  },
  {
   "cell_type": "code",
   "execution_count": 4,
   "metadata": {},
   "outputs": [],
   "source": [
    "turmas = df['turma']"
   ]
  },
  {
   "cell_type": "code",
   "execution_count": 5,
   "metadata": {},
   "outputs": [
    {
     "data": {
      "text/plain": [
       "count                          218\n",
       "unique                          35\n",
       "top       2019 AÉREOS 2x - TURMA 3\n",
       "freq                            18\n",
       "Name: turma, dtype: object"
      ]
     },
     "execution_count": 5,
     "metadata": {},
     "output_type": "execute_result"
    }
   ],
   "source": [
    "turmas.describe()"
   ]
  },
  {
   "cell_type": "code",
   "execution_count": 6,
   "metadata": {},
   "outputs": [
    {
     "name": "stdout",
     "output_type": "stream",
     "text": [
      "True\n"
     ]
    }
   ],
   "source": [
    "print(type(turmas[0]) == float) # Valor sem turma é considerado false, tipo float"
   ]
  },
  {
   "cell_type": "code",
   "execution_count": 7,
   "metadata": {},
   "outputs": [],
   "source": [
    "def fill_sem_turma(value):\n",
    "    if type(value) == float:\n",
    "        return 'sem_turma'\n",
    "    return value"
   ]
  },
  {
   "cell_type": "code",
   "execution_count": 8,
   "metadata": {},
   "outputs": [],
   "source": [
    "turma2 = turmas.apply(fill_sem_turma)"
   ]
  },
  {
   "cell_type": "code",
   "execution_count": 9,
   "metadata": {},
   "outputs": [
    {
     "data": {
      "text/plain": [
       "0                      sem_turma\n",
       "1    2019 AC - ADOLESC - TURMA 1\n",
       "2    2019 AC - ADOLESC - TURMA 1\n",
       "3    2019 AC - ADOLESC - TURMA 1\n",
       "4    2019 AC - ADOLESC - TURMA 1\n",
       "Name: turma, dtype: object"
      ]
     },
     "execution_count": 9,
     "metadata": {},
     "output_type": "execute_result"
    }
   ],
   "source": [
    "turma2.head()"
   ]
  },
  {
   "cell_type": "code",
   "execution_count": 10,
   "metadata": {},
   "outputs": [
    {
     "data": {
      "text/plain": [
       "('turma',\n",
       " 'titulo',\n",
       " 'vencimento',\n",
       " 'sacado',\n",
       " 'recebido',\n",
       " 'credito',\n",
       " 'descritivo')"
      ]
     },
     "execution_count": 10,
     "metadata": {},
     "output_type": "execute_result"
    }
   ],
   "source": [
    "tuple(df.head(0))"
   ]
  },
  {
   "cell_type": "code",
   "execution_count": 11,
   "metadata": {},
   "outputs": [
    {
     "data": {
      "text/plain": [
       "pandas.core.frame.DataFrame"
      ]
     },
     "execution_count": 11,
     "metadata": {},
     "output_type": "execute_result"
    }
   ],
   "source": [
    "type(df.head(0))"
   ]
  },
  {
   "cell_type": "code",
   "execution_count": 12,
   "metadata": {},
   "outputs": [],
   "source": [
    "descritivo = df['descritivo']"
   ]
  },
  {
   "cell_type": "code",
   "execution_count": 13,
   "metadata": {},
   "outputs": [
    {
     "data": {
      "text/plain": [
       "0    parcela de anuidade - 3ª/12             R$ 435...\n",
       "1    TAXA PROD - 3ª/12         R$ 435,00\\nARTE CIRC...\n",
       "2    ARTE CIRC  ADOL 1 - 3ª/12 R$ 435,00\\nTAXA PROD...\n",
       "3    TX ADESÃO - 1ª/1          R$ 220,00\\nTAXA PROD...\n",
       "4    ARTE CIRC  ADOL 1 - 3ª/12 R$ 435,00\\nTAXA PROD...\n",
       "Name: descritivo, dtype: object"
      ]
     },
     "execution_count": 13,
     "metadata": {},
     "output_type": "execute_result"
    }
   ],
   "source": [
    "descritivo.head()"
   ]
  },
  {
   "cell_type": "code",
   "execution_count": 14,
   "metadata": {},
   "outputs": [],
   "source": [
    "def strip_n_split(value):\n",
    "    value = value.strip()\n",
    "    value = value.split('\\n')\n",
    "    return value"
   ]
  },
  {
   "cell_type": "code",
   "execution_count": 22,
   "metadata": {},
   "outputs": [],
   "source": [
    "descritivo2 = descritivo.apply(strip_n_split)"
   ]
  },
  {
   "cell_type": "code",
   "execution_count": 23,
   "metadata": {},
   "outputs": [
    {
     "data": {
      "text/plain": [
       "['parcela de anuidade - 3ª/12             R$ 435,00',\n",
       " 'Valor de produção - AÉR INI PAL - 3ª/12 R$  16,66']"
      ]
     },
     "execution_count": 23,
     "metadata": {},
     "output_type": "execute_result"
    }
   ],
   "source": [
    "descritivo2[0]"
   ]
  },
  {
   "cell_type": "code",
   "execution_count": 24,
   "metadata": {},
   "outputs": [
    {
     "data": {
      "text/plain": [
       "0      [parcela de anuidade - 3ª/12             R$ 43...\n",
       "1      [TAXA PROD - 3ª/12         R$ 435,00, ARTE CIR...\n",
       "2      [ARTE CIRC  ADOL 1 - 3ª/12 R$ 435,00, TAXA PRO...\n",
       "3      [TX ADESÃO - 1ª/1          R$ 220,00, TAXA PRO...\n",
       "4      [ARTE CIRC  ADOL 1 - 3ª/12 R$ 435,00, TAXA PRO...\n",
       "                             ...                        \n",
       "214    [ARTE CIRC  ADOL 1 - 8ª/12 R$ 207,50, Taxa pro...\n",
       "215    [ARTE CIRC  ADOL 1 - 9ª/12 R$ 26,23, Taxa prod...\n",
       "216    [Multas a receber        R$  37,00, AÉR 2X - A...\n",
       "217    [Multas a receber        R$  40,00, BRINCADEIR...\n",
       "218                 [INICIAÇÃO CRI 1 - 11ª/12 R$ 275,00]\n",
       "Name: descritivo, Length: 219, dtype: object"
      ]
     },
     "execution_count": 24,
     "metadata": {},
     "output_type": "execute_result"
    }
   ],
   "source": [
    "descritivo2"
   ]
  },
  {
   "cell_type": "code",
   "execution_count": 25,
   "metadata": {},
   "outputs": [],
   "source": [
    "goal = ['parcela de anuidade - 3ª/12             R$ 435,00', 'Valor de produção - AÉR INI PAL - 3ª/12 R$  16,66']"
   ]
  },
  {
   "cell_type": "code",
   "execution_count": 26,
   "metadata": {},
   "outputs": [
    {
     "data": {
      "text/plain": [
       "True"
      ]
     },
     "execution_count": 26,
     "metadata": {},
     "output_type": "execute_result"
    }
   ],
   "source": [
    "descritivo2[0] == goal"
   ]
  },
  {
   "cell_type": "code",
   "execution_count": 30,
   "metadata": {},
   "outputs": [
    {
     "data": {
      "text/plain": [
       "['TX ADESÃO - 1ª/1          R$ 220,00',\n",
       " 'TAXA PROD - 1ª/10         R$  20,00',\n",
       " 'ARTE CIRC  ADOL 1 - 3ª/12 R$ 435,00']"
      ]
     },
     "execution_count": 30,
     "metadata": {},
     "output_type": "execute_result"
    }
   ],
   "source": [
    "descritivo2[3]"
   ]
  },
  {
   "cell_type": "code",
   "execution_count": 31,
   "metadata": {},
   "outputs": [
    {
     "data": {
      "text/plain": [
       "'Giulia Marandino Diaz'"
      ]
     },
     "execution_count": 31,
     "metadata": {},
     "output_type": "execute_result"
    }
   ],
   "source": [
    "df['sacado'][3]"
   ]
  },
  {
   "cell_type": "code",
   "execution_count": null,
   "metadata": {},
   "outputs": [],
   "source": []
  }
 ],
 "metadata": {
  "kernelspec": {
   "display_name": "Python 3",
   "language": "python",
   "name": "python3"
  },
  "language_info": {
   "codemirror_mode": {
    "name": "ipython",
    "version": 3
   },
   "file_extension": ".py",
   "mimetype": "text/x-python",
   "name": "python",
   "nbconvert_exporter": "python",
   "pygments_lexer": "ipython3",
   "version": "3.6.8"
  }
 },
 "nbformat": 4,
 "nbformat_minor": 4
}

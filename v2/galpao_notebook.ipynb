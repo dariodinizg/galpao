{
 "cells": [
  {
   "cell_type": "code",
   "execution_count": 2,
   "metadata": {},
   "outputs": [],
   "source": [
    "import pandas as pd\n",
    "import matplotlib.pyplot as plt\n",
    "import seaborn as sns\n",
    "import json\n",
    "import re\n",
    "import numpy as np\n",
    "%matplotlib inline"
   ]
  },
  {
   "cell_type": "code",
   "execution_count": 3,
   "metadata": {},
   "outputs": [],
   "source": [
    "df = pd.read_excel('/home/dariodg/Desktop/free/Galpao/ComissionApp/docs/comissabril2019.XLS', )"
   ]
  },
  {
   "cell_type": "code",
   "execution_count": 4,
   "metadata": {},
   "outputs": [],
   "source": [
    "import json\n",
    "import os\n",
    "\n",
    "class ConfigManager:\n",
    "    # config_file = None\n",
    "\n",
    "    def __init__(self, config_file_json):\n",
    "        self.config_file = config_file_json\n",
    "        \n",
    "\n",
    "    @property\n",
    "    def workdir(self):\n",
    "        return os.getcwd()\n",
    "\n",
    "    @property\n",
    "    def settings(self):\n",
    "        with open(self.config_file) as config_file:\n",
    "            settings = json.load(config_file)\n",
    "        return settings"
   ]
  },
  {
   "cell_type": "code",
   "execution_count": 5,
   "metadata": {},
   "outputs": [],
   "source": [
    "class DataEngineer:\n",
    "\n",
    "    CONFIG_FILE = 'general_config.json'\n",
    "    SETTINGS = ConfigManager(CONFIG_FILE).settings\n",
    "    # this line will be replaced by the gui input\n",
    "    DATASET = pd.read_excel(SETTINGS['dataset'])\n",
    "    PATTERNS = SETTINGS['classification_patterns']\n",
    "\n",
    "    # def __init__(self, config_file):\n",
    "    #     self.settings = ConfigManager(config_file)\n",
    "    #     self.data_file = pd.read_excel(self.settings['data_file'])\n",
    "\n",
    "    def _regex_build(self):\n",
    "        \"\"\"Builds a regex for get_non_match method. Ex: '(ADES)|(MULT)|(PROD)'.\"\"\"\n",
    "        all_patterns = []\n",
    "        for pattern in self.PATTERNS.values():\n",
    "            all_patterns.append(f'({pattern})')\n",
    "        return '|'.join(all_patterns)\n",
    "\n",
    "    @staticmethod\n",
    "    def _str_to_float(float_string):\n",
    "        \"\"\"\n",
    "        It takes a float string (\"1,23\" or \"1,234.567.890\") and\n",
    "        converts it to floating point number (1.23 or 1.234567890).\n",
    "        \"\"\"\n",
    "        \n",
    "        if float_string is not None: \n",
    "            float_string = str(float_string)\n",
    "            if float_string.count(\".\") == 1 and float_string.count(\",\") == 0:\n",
    "                return float(float_string)\n",
    "            else:\n",
    "                midle_string = list(float_string)\n",
    "                while midle_string.count(\".\") != 0:\n",
    "                    midle_string.remove(\".\")\n",
    "                out_string = str.replace(\"\".join(midle_string), \",\", \".\")\n",
    "            return float(out_string)\n",
    "        return ''\n",
    "\n",
    "    @property\n",
    "    def data_info(self):\n",
    "        return f'''\n",
    "            \"config_file\": {self.CONFIG_FILE},\n",
    "            \"config_keys\": {tuple(self.SETTINGS.keys())},\n",
    "            \"config_values\": {tuple(self.SETTINGS.values())},\n",
    "            \"data_file\": {self.SETTINGS[\"data_file\"]}\n",
    "        '''\n",
    "\n",
    "    @staticmethod\n",
    "    def fill_empty(current_value, new_value):\n",
    "        \"\"\" Change empty values, considered as float, to new_value \"\"\"\n",
    "        if type(current_value) == float:\n",
    "            return new_value\n",
    "        return current_value\n",
    "\n",
    "    @staticmethod\n",
    "    def str_normalize(row):\n",
    "        return row.upper()\n",
    "    \n",
    "    @staticmethod\n",
    "    def strip_n_split(row, separator):\n",
    "        \"\"\"Remove white spaces and split new lines, forming a list.\"\"\"\n",
    "        return row.strip().split(separator)\n",
    "\n",
    "    @staticmethod\n",
    "    def get_match(row, pattern):\n",
    "        \"\"\" \n",
    "        Select a value from a list that correspond to a given value, or\n",
    "        returns empty if no match was found.\n",
    "        PS: Assign the result to a new variable. Dont override the original\n",
    "         \"\"\"\n",
    "        for value in row:\n",
    "            if pattern in value:\n",
    "                return value\n",
    "        return ''\n",
    "\n",
    "\n",
    "    def get_non_match(self, row):\n",
    "        \"\"\"Select a value from a list that do not correspond a given regex\"\"\"\n",
    "        regex = self._regex_build()\n",
    "        for value in row:\n",
    "            if bool(re.search(regex, value)):\n",
    "                return ''\n",
    "            return value\n",
    "\n",
    "    def split_label_n_amount(self, pd_serie):\n",
    "        \"\"\" Split the payment's label and its amount in two columns.\"\"\"\n",
    "        df = pd_serie.str.split(pat=r'R\\$', expand=True)\n",
    "        df[0] = df[0].str.strip()\n",
    "        df[1] = df[1].str.strip()\n",
    "        df[1] = df[1].apply(self._str_to_float)\n",
    "        return df[0], df[1]\n",
    "\n",
    "    def apply_treatment(self):\n",
    "        \"\"\" \n",
    "        Main method of the class.\n",
    "        Called to apply the functions, through pandas, and return a new dataframe.\n",
    "        \"\"\"\n",
    "\n",
    "        # Column 'turma' treatment\n",
    "        turmas = self.DATASET['turma'].apply(self.fill_empty, args=('sem_turma',))\n",
    "\n",
    "        # Normalize descritivo column and split each line row string in a list of values.\n",
    "        descritivo = self.DATASET['descritivo'].apply(self.str_normalize)\n",
    "        descritivo = descritivo.apply(self.strip_n_split, args=('\\n',))\n",
    "\n",
    "        # Select values of a panda.Series that match a criteria.\n",
    "        adesao = descritivo.apply(self.get_match, args=(self.PATTERNS['adesao'],))\n",
    "        producao = descritivo.apply(self.get_match, args=(self.PATTERNS['producao'],))\n",
    "        multa = descritivo.apply(self.get_match, args=(self.PATTERNS['multa'],))\n",
    "        desconto = descritivo.apply(self.get_match, args=(self.PATTERNS['desconto'],))\n",
    "\n",
    "        # Select values of a panda.Series that dont match a criteria.\n",
    "        parcelas = descritivo.apply(self.get_non_match)\n",
    "\n",
    "        # Split label and amount\n",
    "        label_parcelas, amount_parcelas = self.split_label_n_amount(parcelas)\n",
    "        label_producao, amount_producao = self.split_label_n_amount(producao)\n",
    "        label_multa, amount_multa = self.split_label_n_amount(multa)\n",
    "        label_desconto, amount_desconto = self.split_label_n_amount(desconto)\n",
    "        label_adesao, amount_adesao = self.split_label_n_amount(adesao)\n",
    "\n",
    "\n",
    "        treated_df = {\n",
    "            'TURMA': turmas,\n",
    "            'TITULO': self.DATASET['titulo'],\n",
    "            'VENCIMENTO': self.DATASET['vencimento'],\n",
    "            'SACADO': self.DATASET['sacado'],\n",
    "            'VAL_RECEBIDO':self.DATASET['recebido'],\n",
    "            'VAL_PARCELAS': amount_parcelas,\n",
    "            'VAL_PRODUCAO': amount_producao,\n",
    "            'VAL_MULTA': amount_multa,\n",
    "            'VAL_DESCONTO': amount_desconto,\n",
    "            'VAL_ADESAO': amount_adesao,\n",
    "            'DATA_CREDITO':self.DATASET['credito'],\n",
    "\n",
    "        }\n",
    "        \n",
    "        return treated_df\n",
    "\n",
    "    def export_excel(self):\n",
    "        \"\"\" Export the treated dataframe to a excel file \"\"\"\n",
    "        df = pd.DataFrame(data=self.apply_treatment())\n",
    "        defaul_save_names = self.SETTINGS['default_save_name']\n",
    "        if True:\n",
    "            df.to_excel(defaul_save_names['incomes_table'], index=False)\n",
    "\n",
    "    def run(self):\n",
    "        self.apply_treatment()\n",
    "        self.export_excel()\n",
    "\n"
   ]
  },
  {
   "cell_type": "code",
   "execution_count": 6,
   "metadata": {},
   "outputs": [],
   "source": [
    "df_dicto = DataEngineer().apply_treatment()"
   ]
  },
  {
   "cell_type": "code",
   "execution_count": 7,
   "metadata": {},
   "outputs": [],
   "source": [
    "df = pd.DataFrame(df_dicto)"
   ]
  },
  {
   "cell_type": "code",
   "execution_count": 8,
   "metadata": {},
   "outputs": [
    {
     "data": {
      "text/html": [
       "<div>\n",
       "<style scoped>\n",
       "    .dataframe tbody tr th:only-of-type {\n",
       "        vertical-align: middle;\n",
       "    }\n",
       "\n",
       "    .dataframe tbody tr th {\n",
       "        vertical-align: top;\n",
       "    }\n",
       "\n",
       "    .dataframe thead th {\n",
       "        text-align: right;\n",
       "    }\n",
       "</style>\n",
       "<table border=\"1\" class=\"dataframe\">\n",
       "  <thead>\n",
       "    <tr style=\"text-align: right;\">\n",
       "      <th></th>\n",
       "      <th>TURMA</th>\n",
       "      <th>TITULO</th>\n",
       "      <th>VENCIMENTO</th>\n",
       "      <th>SACADO</th>\n",
       "      <th>VAL_RECEBIDO</th>\n",
       "      <th>VAL_PARCELAS</th>\n",
       "      <th>VAL_PRODUCAO</th>\n",
       "      <th>VAL_MULTA</th>\n",
       "      <th>VAL_DESCONTO</th>\n",
       "      <th>VAL_ADESAO</th>\n",
       "      <th>DATA_CREDITO</th>\n",
       "    </tr>\n",
       "  </thead>\n",
       "  <tbody>\n",
       "    <tr>\n",
       "      <td>12</td>\n",
       "      <td>2019 AC - ADOLESC - TURMA 2</td>\n",
       "      <td>73892</td>\n",
       "      <td>05/03/2019</td>\n",
       "      <td>Catarina Schor Macedo</td>\n",
       "      <td>451.67</td>\n",
       "      <td></td>\n",
       "      <td></td>\n",
       "      <td></td>\n",
       "      <td></td>\n",
       "      <td>16.67</td>\n",
       "      <td>13/3/2019</td>\n",
       "    </tr>\n",
       "  </tbody>\n",
       "</table>\n",
       "</div>"
      ],
      "text/plain": [
       "                          TURMA  TITULO  VENCIMENTO                 SACADO  \\\n",
       "12  2019 AC - ADOLESC - TURMA 2   73892  05/03/2019  Catarina Schor Macedo   \n",
       "\n",
       "    VAL_RECEBIDO VAL_PARCELAS VAL_PRODUCAO VAL_MULTA VAL_DESCONTO VAL_ADESAO  \\\n",
       "12        451.67                                                       16.67   \n",
       "\n",
       "   DATA_CREDITO  \n",
       "12    13/3/2019  "
      ]
     },
     "execution_count": 8,
     "metadata": {},
     "output_type": "execute_result"
    }
   ],
   "source": [
    "df.iloc[[12]]"
   ]
  },
  {
   "cell_type": "code",
   "execution_count": 11,
   "metadata": {},
   "outputs": [],
   "source": [
    "col_list = list(df)"
   ]
  },
  {
   "cell_type": "code",
   "execution_count": 12,
   "metadata": {},
   "outputs": [
    {
     "data": {
      "text/plain": [
       "['TURMA',\n",
       " 'TITULO',\n",
       " 'VENCIMENTO',\n",
       " 'SACADO',\n",
       " 'VAL_RECEBIDO',\n",
       " 'VAL_PARCELAS',\n",
       " 'VAL_PRODUCAO',\n",
       " 'VAL_MULTA',\n",
       " 'VAL_DESCONTO',\n",
       " 'VAL_ADESAO',\n",
       " 'DATA_CREDITO']"
      ]
     },
     "execution_count": 12,
     "metadata": {},
     "output_type": "execute_result"
    }
   ],
   "source": [
    "col_list"
   ]
  },
  {
   "cell_type": "code",
   "execution_count": 13,
   "metadata": {},
   "outputs": [
    {
     "data": {
      "text/plain": [
       "219"
      ]
     },
     "execution_count": 13,
     "metadata": {},
     "output_type": "execute_result"
    }
   ],
   "source": [
    "df['TURMA'].size"
   ]
  },
  {
   "cell_type": "code",
   "execution_count": 14,
   "metadata": {},
   "outputs": [],
   "source": [
    "df2 = pd.read_excel('incomes.xls')"
   ]
  },
  {
   "cell_type": "code",
   "execution_count": 16,
   "metadata": {},
   "outputs": [
    {
     "name": "stdout",
     "output_type": "stream",
     "text": [
      "<class 'pandas.core.frame.DataFrame'>\n",
      "RangeIndex: 228 entries, 0 to 227\n",
      "Data columns (total 11 columns):\n",
      "TURMA           219 non-null object\n",
      "TITULO          219 non-null float64\n",
      "VENCIMENTO      219 non-null object\n",
      "SACADO          219 non-null object\n",
      "VAL_RECEBIDO    219 non-null float64\n",
      "VAL_PARCELA     219 non-null object\n",
      "VAL_PRODUCAO    172 non-null float64\n",
      "VAL_MULTA       18 non-null float64\n",
      "VAL_DESCONTO    1 non-null float64\n",
      "VAL_ADESAO      23 non-null float64\n",
      "DATA_CREDITO    219 non-null object\n",
      "dtypes: float64(6), object(5)\n",
      "memory usage: 19.7+ KB\n"
     ]
    }
   ],
   "source": [
    "df2.info()"
   ]
  },
  {
   "cell_type": "code",
   "execution_count": 18,
   "metadata": {},
   "outputs": [
    {
     "name": "stdout",
     "output_type": "stream",
     "text": [
      "<class 'pandas.core.frame.DataFrame'>\n",
      "RangeIndex: 219 entries, 0 to 218\n",
      "Data columns (total 11 columns):\n",
      "TURMA           219 non-null object\n",
      "TITULO          219 non-null int64\n",
      "VENCIMENTO      219 non-null object\n",
      "SACADO          219 non-null object\n",
      "VAL_RECEBIDO    219 non-null float64\n",
      "VAL_PARCELAS    219 non-null object\n",
      "VAL_PRODUCAO    219 non-null object\n",
      "VAL_MULTA       219 non-null object\n",
      "VAL_DESCONTO    219 non-null object\n",
      "VAL_ADESAO      219 non-null object\n",
      "DATA_CREDITO    219 non-null object\n",
      "dtypes: float64(1), int64(1), object(9)\n",
      "memory usage: 18.9+ KB\n"
     ]
    }
   ],
   "source": [
    "df.info()"
   ]
  },
  {
   "cell_type": "code",
   "execution_count": null,
   "metadata": {},
   "outputs": [],
   "source": []
  }
 ],
 "metadata": {
  "kernelspec": {
   "display_name": "Python 3",
   "language": "python",
   "name": "python3"
  },
  "language_info": {
   "codemirror_mode": {
    "name": "ipython",
    "version": 3
   },
   "file_extension": ".py",
   "mimetype": "text/x-python",
   "name": "python",
   "nbconvert_exporter": "python",
   "pygments_lexer": "ipython3",
   "version": "3.6.8"
  }
 },
 "nbformat": 4,
 "nbformat_minor": 4
}
